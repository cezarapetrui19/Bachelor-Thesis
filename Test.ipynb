{
 "cells": [
  {
   "cell_type": "code",
   "execution_count": 1,
   "id": "1b17489a",
   "metadata": {},
   "outputs": [
    {
     "name": "stdout",
     "output_type": "stream",
     "text": [
      "Generator point is on the curve.\n",
      "Order of the generator: 107\n"
     ]
    }
   ],
   "source": [
    "# Define the finite field\n",
    "F = GF(103)\n",
    "\n",
    "# Define the elliptic curve\n",
    "E = EllipticCurve(F, [24, 87])\n",
    "\n",
    "# Define the generator point\n",
    "G = E(1, 3)\n",
    "\n",
    "# Check if the generator point is on the curve\n",
    "if G in E:\n",
    "    print(\"Generator point is on the curve.\")\n",
    "\n",
    "# Check the order of the generator\n",
    "order_G = G.order()\n",
    "print(\"Order of the generator:\", order_G)"
   ]
  },
  {
   "cell_type": "code",
   "execution_count": 1,
   "id": "5ffc7145",
   "metadata": {},
   "outputs": [
    {
     "name": "stdout",
     "output_type": "stream",
     "text": [
      "Result of scalar multiplication: (80 : 40 : 1)\n"
     ]
    }
   ],
   "source": [
    "# Define the finite field\n",
    "F = GF(103)\n",
    "\n",
    "# Define the elliptic curve\n",
    "E = EllipticCurve(F, [-7, 10])\n",
    "\n",
    "# Define the point\n",
    "P = E(3, 4)\n",
    "\n",
    "# Scalar multiplication\n",
    "Q = 151 * P\n",
    "\n",
    "print(\"Result of scalar multiplication:\", Q)\n"
   ]
  },
  {
   "cell_type": "code",
   "execution_count": null,
   "id": "9e4a4918",
   "metadata": {},
   "outputs": [],
   "source": []
  }
 ],
 "metadata": {
  "kernelspec": {
   "display_name": "SageMath 10.1",
   "language": "sage",
   "name": "sagemath"
  },
  "language_info": {
   "codemirror_mode": {
    "name": "ipython",
    "version": 3
   },
   "file_extension": ".py",
   "mimetype": "text/x-python",
   "name": "python",
   "nbconvert_exporter": "python",
   "pygments_lexer": "ipython3",
   "version": "3.11.1"
  }
 },
 "nbformat": 4,
 "nbformat_minor": 5
}
