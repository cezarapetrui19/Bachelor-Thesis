{
 "cells": [
  {
   "cell_type": "markdown",
   "id": "ebad0fa5",
   "metadata": {},
   "source": [
    "Operations"
   ]
  },
  {
   "cell_type": "code",
   "execution_count": 1,
   "id": "53bcf890",
   "metadata": {},
   "outputs": [],
   "source": [
    "def invert(x):\n",
    "    # x = x0 + x1*epsilon\n",
    "    x0, x1 = x.list()\n",
    "    assert x0 != 0  # otherwise not invertible\n",
    "    inverse = (x0 - x1*epsilon)/(x0^2)\n",
    "    return inverse\n",
    "\n",
    "def make_operations(a, b):\n",
    "    # Build group law and scalar multiplication for an elliptic curve\n",
    "    # y^2 = x^3 + a*x + b\n",
    "\n",
    "    def plus(P1, P2):\n",
    "        # Group law from Bosma & Lenstra.\n",
    "        # Assumes P1 - P2 has odd order,\n",
    "        # which is always true if the elliptic curve has odd order.\n",
    "        X1, Y1, Z1 = P1\n",
    "        X2, Y2, Z2 = P2\n",
    "        X3 = (X1*Y2 + X2*Y1)*(Y1*Y2 - a*(X1*Z2 + X2*Z1) - 3*b*Z1*Z2) \\\n",
    "             - (Y1*Z2 + Y2*Z1)*(a*X1*X2 + 3*b*(X1*Z2 + X2*Z1) - a^2*Z1*Z2)\n",
    "        Y3 = (Y1*Y2 + a*(X1*Z2 + X2*Z1) + 3*b*Z1*Z2)*(Y1*Y2 - a*(X1*Z2 + X2*Z1) - 3*b*Z1*Z2) \\\n",
    "             + (3*X1*X2 + a*Z1*Z2)*(a*X1*X2 + 3*b*(X1*Z2 + X2*Z1) - a^2*Z1*Z2)\n",
    "        Z3 = (Y1*Z2 + Y2*Z1)*(Y1*Y2 + a*(X1*Z2 + X2*Z1) + 3*b*Z1*Z2) \\\n",
    "             + (X1*Y2 + X2*Y1)*(3*X1*X2 + a*Z1*Z2)\n",
    "        return [X3, Y3, Z3]\n",
    "\n",
    "    def mult(m, P):\n",
    "        res = [0, 1, 0]  # Point at infinity\n",
    "        # Basic double-and-add loop\n",
    "        for bit in reversed(Integer(m).digits(2)):\n",
    "            res = plus(res, res)\n",
    "            if bit == 1:\n",
    "                res = plus(res, P)\n",
    "        return res\n",
    "\n",
    "    def equals(P1, P2):\n",
    "        # Projective equality:\n",
    "        X1, Y1, Z1 = P1\n",
    "        X2, Y2, Z2 = P2\n",
    "\n",
    "        # These will all be zero iff X2 = c*X1, Y2 = c*X2, Z1 = c*Z2 for some nonzero c\n",
    "        minors = [X1*Y2 - X2*Y1, X1*Z2 - X2*Z1, Y1*Z2 - Y2*Z1]\n",
    "\n",
    "        return (minors[0] == 0) and (minors[1] == 0) and (minors[2] == 0)\n",
    "\n",
    "    return plus, mult, equals"
   ]
  },
  {
   "cell_type": "markdown",
   "id": "2a5ee3a7",
   "metadata": {},
   "source": [
    "# Virat"
   ]
  },
  {
   "cell_type": "markdown",
   "id": "bcb82610",
   "metadata": {},
   "source": [
    "Parameters"
   ]
  },
  {
   "cell_type": "code",
   "execution_count": null,
   "id": "8436a2c8",
   "metadata": {},
   "outputs": [],
   "source": [
    "#Parameters\n",
    "\n",
    "#prime p\n",
    "p = 103\n",
    "Fp = GF(p)\n",
    "\n",
    "#curve parameters\n",
    "a = 24\n",
    "b = 87\n",
    "\n",
    "#elliptic curve\n",
    "E_p = EllipticCurve(Fp, [a, b])\n",
    "\n",
    "#generator point P = [p] * (P hat)\n",
    "P = E_p(1, 3)\n",
    "print(P[2])\n",
    "\n",
    "\n",
    "#Check if the generator point is on the curve\n",
    "if P in E_p:\n",
    "    print(\"Generator point P is on the curve.\")\n",
    "\n",
    "#order q of the generator, q prime\n",
    "q = P.order()\n",
    "print(\"Order of the generator:\", q)\n",
    "\n",
    "R.<t> = PolynomialRing(Fp)\n",
    "S = R.quotient(t^2, 'epsilon')\n",
    "epsilon = S.gen()\n",
    "\n",
    "E_eps = EllipticCurve(S, [24,87])\n",
    "\n",
    "P2 = E_eps(1, 3)\n",
    "print(P2)\n",
    "\n",
    "\n",
    "plus, mult, equals = make_operations(a, b)"
   ]
  },
  {
   "cell_type": "markdown",
   "id": "552bfb02",
   "metadata": {},
   "source": [
    "Cryptosystem implementation"
   ]
  },
  {
   "cell_type": "code",
   "execution_count": null,
   "id": "53e57f5a",
   "metadata": {},
   "outputs": [],
   "source": [
    "def key_generation():\n",
    "    GF_q = FiniteField(q)\n",
    "    x = GF_q.random_element()\n",
    "    Y = mult(x, P)\n",
    "    return (Y, x)\n",
    "\n",
    "Y, x = key_generation()"
   ]
  },
  {
   "cell_type": "code",
   "execution_count": null,
   "id": "5ec94c52",
   "metadata": {},
   "outputs": [],
   "source": [
    "def encrypt(Y, m):\n",
    "    GF_q = FiniteField(q)\n",
    "    r = GF_q.random_element()\n",
    "    x_0, y_0, _ = E_p.random_point()\n",
    "    tmp = 2 * y_0\n",
    "    inv_y0 = inverse_mod(int(tmp), p)\n",
    "    y_1 = (((3 * x_0 * x_0 * m * inv_y0) % p) + ((a * m * inv_y0) % p)) % p \n",
    "    M_hat = E_eps(x_0 + epsilon * m, y_0 + epsilon * y_1)\n",
    "    C_1 = mult(r, P)\n",
    "    C_2 = plus(M_hat, mult(r, Y))\n",
    "    return (C_1, C_2)\n",
    "\n",
    "C = encrypt(Y, 3)"
   ]
  },
  {
   "cell_type": "code",
   "execution_count": null,
   "id": "9ef94f03",
   "metadata": {},
   "outputs": [],
   "source": [
    "def decrypt(x, C):\n",
    "    C_1, C_2 = C\n",
    "    M_hat = plus(C_2, mult((-1) * x, C_1))\n",
    "    X, Y, Z = M_hat\n",
    "    inv_Z = invert(Z)\n",
    "    X = X * inv_Z\n",
    "    Y = Y * inv_Z\n",
    "    _ , coeff_eps = X.list()\n",
    "    return coeff_eps\n",
    "    \n",
    "decrypt(x, C)"
   ]
  },
  {
   "cell_type": "markdown",
   "id": "3f15286b",
   "metadata": {},
   "source": [
    "# Joye-Libert"
   ]
  },
  {
   "cell_type": "markdown",
   "id": "0f57aeac",
   "metadata": {},
   "source": [
    "Parameters"
   ]
  },
  {
   "cell_type": "code",
   "execution_count": null,
   "id": "789ef3f5",
   "metadata": {},
   "outputs": [],
   "source": [
    "#Parameters\n",
    "\n",
    "#prime p\n",
    "p = 103\n",
    "Fp = GF(p)\n",
    "\n",
    "#curve parameters\n",
    "a = 24\n",
    "b = 87\n",
    "\n",
    "#elliptic curve\n",
    "E_p = EllipticCurve(Fp, [a, b])\n",
    "\n",
    "#generator point P = [p] * (P hat)\n",
    "P = E_p(1, 3)\n",
    "print(P[2])\n",
    "\n",
    "\n",
    "#Check if the generator point is on the curve\n",
    "if P in E_p:\n",
    "    print(\"Generator point P is on the curve.\")\n",
    "\n",
    "#order q of the generator, q prime\n",
    "q = P.order()\n",
    "print(\"Order of the generator:\", q)"
   ]
  },
  {
   "cell_type": "code",
   "execution_count": 2,
   "id": "c56b54cb",
   "metadata": {},
   "outputs": [
    {
     "name": "stdout",
     "output_type": "stream",
     "text": [
      "3\n"
     ]
    }
   ],
   "source": [
    "p = 0xffffffff00000001000000000000000000000000ffffffffffffffffffffffff\n",
    "print(p%4)\n",
    "K = GF(p)\n",
    "a = 0xffffffff00000001000000000000000000000000fffffffffffffffffffffffc\n",
    "b = 0x5ac635d8aa3a93e7b3ebbd55769886bc651d06b0cc53b0f63bce3c3e27d2604b\n",
    "E = EllipticCurve(K, (a, b))\n",
    "P = E(0x6b17d1f2e12c4247f8bce6e563a440f277037d812deb33a0f4a13945d898c296, 0x4fe342e2fe1a7f9b8ee7eb4a7c0f9e162bce33576b315ececbb6406837bf51f5)\n",
    "q = 0xffffffff00000000ffffffffffffffffbce6faada7179e84f3b9cac2fc632551\n",
    "E.set_order(0xffffffff00000000ffffffffffffffffbce6faada7179e84f3b9cac2fc632551 * 0x1)"
   ]
  },
  {
   "cell_type": "code",
   "execution_count": 3,
   "id": "8869429f",
   "metadata": {},
   "outputs": [],
   "source": [
    "plus, mult, equals = make_operations(a, b)"
   ]
  },
  {
   "cell_type": "markdown",
   "id": "9bcad6fd",
   "metadata": {},
   "source": [
    "Functions for the cryptosystem"
   ]
  },
  {
   "cell_type": "code",
   "execution_count": 4,
   "id": "85a2d42a",
   "metadata": {},
   "outputs": [],
   "source": [
    "def gamma(Q):\n",
    "    #print(Q)\n",
    "    x, y, z = Q\n",
    "    x = int(x)\n",
    "    y = int(y)\n",
    "    z = int(z)\n",
    "    assert(z % p == 0)\n",
    "    inv_y = inverse_mod(y, p**2)\n",
    "    x = (x * inv_y) % (p**2)\n",
    "    y = (y * inv_y) % (p**2)\n",
    "    assert(y == 1)\n",
    "    assert(x % p == 0)\n",
    "    return x // p\n",
    "\n",
    "def compute_class(Q):\n",
    "    x, y, z = Q\n",
    "    x = int(x)\n",
    "    y = int(y)\n",
    "    z = int(z)\n",
    "    inv_q = inverse_mod(q, p)\n",
    "    a = mult(q, Q)\n",
    "    return ((gamma(a) * inv_q) % p)\n",
    "\n",
    "def delta(Q):\n",
    "    x, y, _ = Q\n",
    "    x = int(x)\n",
    "    y = int(y)\n",
    "    return ((x ** 3 + a * x + b - y ** 2) % (p ** 2)) // p   \n",
    "\n",
    "def little_psi(Q):\n",
    "    x, y, _ = Q\n",
    "    x = int(x)\n",
    "    y = int(y)\n",
    "    delta_Q = delta(Q)\n",
    "    inv_y = inverse_mod(2 * y, p)\n",
    "    return (delta_Q * inv_y) % p\n",
    "\n",
    "def capital_psi(Q):\n",
    "    x, y, z = Q\n",
    "    R = Integers(p*p)\n",
    "    x = R(x)\n",
    "    y = R(y)\n",
    "    z = R(z)\n",
    "    if z == 0:\n",
    "        return Q\n",
    "    inv_z = 1/z\n",
    "    x = (x * inv_z) \n",
    "    y = (y * inv_z) \n",
    "    z = (z * inv_z)\n",
    "    Q = x, y, z\n",
    "    return [x, y + little_psi(Q) * p, 1] #z=1 here"
   ]
  },
  {
   "cell_type": "markdown",
   "id": "078d55dc",
   "metadata": {},
   "source": [
    "Test cell"
   ]
  },
  {
   "cell_type": "code",
   "execution_count": null,
   "id": "003dbef5",
   "metadata": {},
   "outputs": [],
   "source": [
    "GF_p = FiniteField(p)\n",
    "x = GF_p.random_element()\n",
    "print(1/x)"
   ]
  },
  {
   "cell_type": "markdown",
   "id": "5580ff65",
   "metadata": {},
   "source": [
    "Cryptosystem implementation"
   ]
  },
  {
   "cell_type": "code",
   "execution_count": 5,
   "id": "21b81d78",
   "metadata": {},
   "outputs": [
    {
     "name": "stdout",
     "output_type": "stream",
     "text": [
      "[103328423392925906465785733476052037194382865536386552316951861559249241320230, 21970427169870716400395146024609209838280870399726754931873089313307467581091, 1869591782096277780179900264973514547289565433419083968115826465454048227226]\n"
     ]
    }
   ],
   "source": [
    "def key_generation():\n",
    "    GF_q = FiniteField(q)\n",
    "    x = GF_q.random_element()\n",
    "    Y = mult(x, P)\n",
    "    return (Y, x)\n",
    "\n",
    "Y, x = key_generation()\n",
    "print(Y)"
   ]
  },
  {
   "cell_type": "markdown",
   "id": "3ec9184b",
   "metadata": {},
   "source": [
    "Additive cryptosystem"
   ]
  },
  {
   "cell_type": "code",
   "execution_count": 6,
   "id": "e5ff6a0c",
   "metadata": {},
   "outputs": [
    {
     "name": "stdout",
     "output_type": "stream",
     "text": [
      "([51386752329088019713323577929590240869843558070009259829183595963935603286560, 97534103844724434493096072953843919087951898911420914415000595221795236460860, 94949165408384984192999966844231387850799002092429539871515842378729034210402], 81870728526814269464148617336231475927577539772190693765543833106810436501491)\n"
     ]
    }
   ],
   "source": [
    "def encrypt_additive(Y, m):\n",
    "    GF_q = FiniteField(q)\n",
    "    r = GF_q.random_element()\n",
    "    C_1 = mult(r, P)\n",
    "    C_2 = mult(r, Y)\n",
    "    C_2_tilde = capital_psi(C_2)\n",
    "    beta = compute_class(C_2_tilde)\n",
    "    c_2 = (m + beta) % p\n",
    "    return (C_1, c_2)\n",
    "\n",
    "C = encrypt_additive(Y, 4)\n",
    "print(C)\n",
    "\n",
    "\n",
    "def add_constant_to_encryption(Y, m, K):\n",
    "    C_1, c_2 = encrypt_additive(Y,m)\n",
    "    c_2 = (c_2 + K) % p\n",
    "    return (C_1, c_2)"
   ]
  },
  {
   "cell_type": "code",
   "execution_count": 7,
   "id": "942c4f7e",
   "metadata": {},
   "outputs": [
    {
     "name": "stdout",
     "output_type": "stream",
     "text": [
      "96187222990447271416473130301790608389876448626638952484035342252754159216769\n"
     ]
    }
   ],
   "source": [
    "def decrypt_additive(x, C):\n",
    "    C_1, c_2 = C\n",
    "    C_1_times_x = mult(x, C_1)\n",
    "    t = capital_psi(C_1_times_x)\n",
    "    v = compute_class(t)\n",
    "    return (c_2 - v) % p\n",
    "\n",
    "print(decrypt_additive(x, C))"
   ]
  },
  {
   "cell_type": "markdown",
   "id": "54092545",
   "metadata": {},
   "source": [
    "Multiplicative cryptosystem"
   ]
  },
  {
   "cell_type": "code",
   "execution_count": 8,
   "id": "779eca90",
   "metadata": {},
   "outputs": [
    {
     "name": "stdout",
     "output_type": "stream",
     "text": [
      "([66305770187351479089185151200428450424901566603718270612319964424185319419114, 32098193389108894712467314392198446637309928871721054946237390278718620949041, 37722676010150146816643832721902739811942936061626487138943120476022102980071], 63438176389007744262239209214858498162399720457886531369503026742448683434373)\n"
     ]
    }
   ],
   "source": [
    "def encrypt_multiplicative(Y, m):\n",
    "    GF_q = FiniteField(q)\n",
    "    r = GF_q.random_element()\n",
    "    C_1 = mult(r, P)\n",
    "    C_2 = mult(r, Y)\n",
    "    C_2_tilde = capital_psi(C_2) \n",
    "    beta = compute_class(C_2_tilde)\n",
    "    c_2 = (m * beta) % p\n",
    "    return (C_1, c_2)\n",
    "\n",
    "C = encrypt_multiplicative(Y, 4)\n",
    "print(C)\n",
    "\n",
    "\n",
    "def multiply_constant_to_encryption(Y, m, K):\n",
    "    C_1, c_2 = encrypt_multiplicative(Y,m)\n",
    "    c_2 = (c_2 * K) % p\n",
    "    return (C_1, c_2)"
   ]
  },
  {
   "cell_type": "code",
   "execution_count": 9,
   "id": "cb001025",
   "metadata": {},
   "outputs": [
    {
     "name": "stdout",
     "output_type": "stream",
     "text": [
      "81295090764448794560808264233359588655662255652005799190360008047305041357174\n"
     ]
    }
   ],
   "source": [
    "def decrypt_multiplicative(x, C): #doesn't decrypt well\n",
    "    C_1, c_2 = C\n",
    "    C_1_times_x = mult(x, C_1)\n",
    "    t = capital_psi(C_1_times_x)\n",
    "    v = compute_class(t)\n",
    "    return (c_2 / v) % p\n",
    "\n",
    "print(decrypt_multiplicative(x, C))"
   ]
  },
  {
   "cell_type": "code",
   "execution_count": null,
   "id": "2b36050c",
   "metadata": {},
   "outputs": [],
   "source": []
  }
 ],
 "metadata": {
  "kernelspec": {
   "display_name": "SageMath 10.1",
   "language": "sage",
   "name": "sagemath"
  },
  "language_info": {
   "codemirror_mode": {
    "name": "ipython",
    "version": 3
   },
   "file_extension": ".py",
   "mimetype": "text/x-python",
   "name": "python",
   "nbconvert_exporter": "python",
   "pygments_lexer": "ipython3",
   "version": "3.11.1"
  }
 },
 "nbformat": 4,
 "nbformat_minor": 5
}
